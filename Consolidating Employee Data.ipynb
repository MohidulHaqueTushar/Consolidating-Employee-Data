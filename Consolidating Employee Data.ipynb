{
 "cells": [
  {
   "cell_type": "markdown",
   "id": "88855948",
   "metadata": {},
   "source": [
    "You just got hired as the first and only data practitioner at a small business experiencing exponential growth. The company needs more structured processes, guidelines, and standards. Your first mission is to structure the human resources data. The data is currently scattered across teams and files and comes in various formats: Excel files, CSVs, JSON files...\n",
    "\n",
    "You'll work with the following data in the `datasets` folder:\n",
    "- __Office addresses__ are currently saved in `office_addresses.csv`. If the value for office is `NaN`, then the employee is remote. \n",
    "- __Employee addresses__ are saved on the first tab of `employee_information.xlsx`.\n",
    "- __Employee emergency contacts__ are saved on the second tab of `employee_information.xlsx`; this tab is called `emergency_contacts`. However, this sheet was edited at some point, and the headers were removed! The HR manager let you know that they should be: `employee_id`, `last_name`, `first_name`, `emergency_contact`, `emergency_contact_number`, and `relationship`.\n",
    "- __Employee roles, teams, and salaries__ have been exported from the company's human resources management system into a JSON file titled `employee_roles.json`. Here are the first few lines of that file:\n",
    "```\n",
    "{\"A2R5H9\":\n",
    "  {\n",
    "    \"title\": \"CEO\",\n",
    "    \"monthly_salary\": \"$4500\",\n",
    "    \"team\": \"Leadership\"\n",
    "  },\n",
    " ...\n",
    "}"
   ]
  },
  {
   "cell_type": "code",
   "execution_count": 1,
   "id": "10f5e6eb",
   "metadata": {},
   "outputs": [],
   "source": [
    "# Import pandas\n",
    "import pandas as pd"
   ]
  },
  {
   "cell_type": "code",
   "execution_count": 2,
   "id": "80ca01b0",
   "metadata": {},
   "outputs": [],
   "source": [
    "# Read in office_addresses.csv\n",
    "offices = pd.read_csv(\"office_addresses.csv\")"
   ]
  },
  {
   "cell_type": "code",
   "execution_count": 3,
   "id": "8fb1d451",
   "metadata": {},
   "outputs": [],
   "source": [
    "# Declare a list of columns to keep from addresses\n",
    "addresses_cols = [\"employee_id\", \"employee_country\", \"employee_city\", \"employee_street\", \"employee_street_number\"]"
   ]
  },
  {
   "cell_type": "code",
   "execution_count": 4,
   "id": "923ca1d2",
   "metadata": {},
   "outputs": [],
   "source": [
    "# Read in employee_information.xlsx\n",
    "addresses = pd.read_excel(\"employee_information.xlsx\",\n",
    "                         usecols=addresses_cols)"
   ]
  },
  {
   "cell_type": "code",
   "execution_count": 5,
   "id": "909a77aa",
   "metadata": {},
   "outputs": [],
   "source": [
    "# Declare a list of new column names\n",
    "emergency_contacts_header = [\"employee_id\", \"last_name\", \"first_name\",\n",
    "                             \"emergency_contact\", \"emergency_contact_number\", \"relationship\"]"
   ]
  },
  {
   "cell_type": "code",
   "execution_count": 6,
   "id": "32d5fbef",
   "metadata": {},
   "outputs": [],
   "source": [
    "# Read in employee_information.xlsx\n",
    "emergency_contacts = pd.read_excel(\"employee_information.xlsx\", \n",
    "                                   sheet_name=\"emergency_contacts\", \n",
    "                                   header=None,\n",
    "                                   names=emergency_contacts_header)"
   ]
  },
  {
   "cell_type": "code",
   "execution_count": 7,
   "id": "294b9066",
   "metadata": {},
   "outputs": [],
   "source": [
    "# Read in employee_roles.json\n",
    "roles = pd.read_json(\"employee_roles.json\", orient=\"index\")"
   ]
  },
  {
   "cell_type": "code",
   "execution_count": 8,
   "id": "ed06e28e",
   "metadata": {},
   "outputs": [],
   "source": [
    "# Merge addresses with offices\n",
    "employees = addresses.merge(offices, left_on=\"employee_country\", right_on=\"office_country\", how=\"left\")"
   ]
  },
  {
   "cell_type": "code",
   "execution_count": 9,
   "id": "1be4e925",
   "metadata": {},
   "outputs": [],
   "source": [
    "# Merge employees with roles\n",
    "employees = employees.merge(roles, left_on=\"employee_id\", right_on=roles.index)"
   ]
  },
  {
   "cell_type": "code",
   "execution_count": 10,
   "id": "404c7fb3",
   "metadata": {},
   "outputs": [],
   "source": [
    "# Merge employees with emergency_contacts\n",
    "employees = employees.merge(emergency_contacts, on=\"employee_id\")"
   ]
  },
  {
   "cell_type": "code",
   "execution_count": 11,
   "id": "f9bf8531",
   "metadata": {},
   "outputs": [],
   "source": [
    "# Fill null values in office columns\n",
    "for col in [\"office\", \"office_country\", \"office_city\", \"office_street\", \"office_street_number\"]:\n",
    "    employees[col].fillna(\"Remote\", inplace=True)"
   ]
  },
  {
   "cell_type": "code",
   "execution_count": 12,
   "id": "53ac2428",
   "metadata": {},
   "outputs": [],
   "source": [
    "# Create final columns\n",
    "final_columns = [\"employee_id\", \"first_name\", \"last_name\", \"employee_country\", \n",
    "                 \"employee_city\", \"employee_street\", \"employee_street_number\", \n",
    "                 \"emergency_contact\", \"emergency_contact_number\", \"relationship\", \n",
    "                 \"monthly_salary\", \"team\", \"title\", \"office\", \"office_country\", \n",
    "                 \"office_city\", \"office_street\", \"office_street_number\"]"
   ]
  },
  {
   "cell_type": "code",
   "execution_count": 13,
   "id": "8b8d4cee",
   "metadata": {},
   "outputs": [],
   "source": [
    "# Subset for the required columns\n",
    "employees_final = employees[final_columns]"
   ]
  },
  {
   "cell_type": "code",
   "execution_count": 14,
   "id": "1c0df0a6",
   "metadata": {},
   "outputs": [],
   "source": [
    "# Set employee_id as the index\n",
    "employees_final.set_index(\"employee_id\", inplace=True)"
   ]
  },
  {
   "cell_type": "code",
   "execution_count": null,
   "id": "cd49c2af",
   "metadata": {},
   "outputs": [],
   "source": []
  }
 ],
 "metadata": {
  "kernelspec": {
   "display_name": "Python 3 (ipykernel)",
   "language": "python",
   "name": "python3"
  },
  "language_info": {
   "codemirror_mode": {
    "name": "ipython",
    "version": 3
   },
   "file_extension": ".py",
   "mimetype": "text/x-python",
   "name": "python",
   "nbconvert_exporter": "python",
   "pygments_lexer": "ipython3",
   "version": "3.11.3"
  }
 },
 "nbformat": 4,
 "nbformat_minor": 5
}
